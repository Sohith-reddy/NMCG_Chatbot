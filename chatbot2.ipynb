{
 "cells": [
  {
   "cell_type": "code",
   "execution_count": 3,
   "id": "3c895174-75f7-4c8d-9b38-5222dc139296",
   "metadata": {},
   "outputs": [
    {
     "name": "stderr",
     "output_type": "stream",
     "text": [
      "<>:50: SyntaxWarning: \"is\" with a literal. Did you mean \"==\"?\n",
      "<>:50: SyntaxWarning: \"is\" with a literal. Did you mean \"==\"?\n",
      "[nltk_data] Error loading punkt: <urlopen error [WinError 10054] An\n",
      "[nltk_data]     existing connection was forcibly closed by the remote\n",
      "[nltk_data]     host>\n"
     ]
    },
    {
     "name": "stdout",
     "output_type": "stream",
     "text": [
      "[['Narendra Damodardas Modi (Gujarati: [ˈnəɾendɾə dɑmodəɾˈdɑs ˈmodiː] ⓘ; born 17 September 1950)[b] is an Indian politician who has served as the 14th prime minister of India since May 2014.', 'Modi was the Chief Minister of Gujarat from 2001 to 2014 and is the Member of Parliament (MP) for Varanasi.'], ['Narendra', 'Damodardas']]\n"
     ]
    },
    {
     "name": "stderr",
     "output_type": "stream",
     "text": [
      "[nltk_data] Error loading wordnet: <urlopen error [WinError 10054] An\n",
      "[nltk_data]     existing connection was forcibly closed by the remote\n",
      "[nltk_data]     host>\n",
      "C:\\Users\\Srini\\AppData\\Local\\Temp\\ipykernel_11196\\795210704.py:50: SyntaxWarning: \"is\" with a literal. Did you mean \"==\"?\n",
      "  if req_tfidf is 0:\n"
     ]
    }
   ],
   "source": [
    "import nltk\n",
    "import numpy as np\n",
    "import random\n",
    "import string\n",
    "raw = \"Narendra Damodardas Modi (Gujarati: [ˈnəɾendɾə dɑmodəɾˈdɑs ˈmodiː] ⓘ; born 17 September 1950)[b] is an Indian politician who has served as the 14th prime minister of India since May 2014. Modi was the Chief Minister of Gujarat from 2001 to 2014 and is the Member of Parliament (MP) for Varanasi. He is a member of the Bharatiya Janata Party (BJP) and of the Rashtriya Swayamsevak Sangh (RSS), a right-wing Hindu nationalist paramilitary volunteer organisation. He is the longest-serving prime minister from outside the Indian National Congress.\"\n",
    "nltk.download('punkt')\n",
    "nltk.download('wordnet')\n",
    "\n",
    "sentence_tokens = nltk.sent_tokenize(raw)\n",
    "word_tokens = nltk.word_tokenize(raw)\n",
    "\n",
    "print([sentence_tokens[:2], word_tokens[:2]])\n",
    "lemmer = nltk.stem.WordNetLemmatizer()\n",
    "\n",
    "remove_punct_dict = dict((ord(punct), None) for punct in string.punctuation)\n",
    "\n",
    "def lem_tokens(tokens):\n",
    "    return [lemmer.lemmatize(token) for token in tokens]\n",
    "\n",
    "def lem_normalize(text):\n",
    "    return lem_tokens(nltk.word_tokenize(text.lower().translate(remove_punct_dict)))\n",
    "GREETING_INPUTS = ('hello', 'hi', 'greetings', 'sup', 'what\\'s up', 'hey',)\n",
    "GREETING_RESPONSES = ['hi', 'hey', '*nods*', 'hi there', 'hello', 'I am glad! You are talking to me']\n",
    "\n",
    "def greeting(sentence):\n",
    "    for word in sentence.split():\n",
    "        if word.lower() in GREETING_INPUTS:\n",
    "            return random.choice(GREETING_RESPONSES)\n",
    "import sklearn\n",
    "from sklearn.feature_extraction.text import TfidfVectorizer\n",
    "from sklearn.metrics.pairwise import cosine_similarity\n",
    "\n",
    "\n",
    "def response(user_response):\n",
    "    robo_response = ''\n",
    "    sentence_tokens.append(user_response)\n",
    "    vectorizer = TfidfVectorizer(tokenizer=lem_normalize, stop_words='english')\n",
    "    tfidf = vectorizer.fit_transform(sentence_tokens)\n",
    "    \n",
    "    values = cosine_similarity(tfidf[-1], tfidf)\n",
    "    print(values)\n",
    "    idx = values.argsort()[0][-2]\n",
    "    print(idx)\n",
    "    flat = values.flatten()\n",
    "    print(flat)\n",
    "    flat.sort()\n",
    "    print(flat)\n",
    "    req_tfidf = flat[-2]\n",
    "    if req_tfidf is 0:\n",
    "        robo_response = '{} Sorry, I don\\'t understand you'.format(robo_response)\n",
    "    else:\n",
    "        robo_response = robo_response + sentence_tokens[idx]\n",
    "    return robo_response"
   ]
  },
  {
   "cell_type": "code",
   "execution_count": null,
   "id": "1f0503a1-f531-4750-9707-3eea59816a2f",
   "metadata": {},
   "outputs": [
    {
     "name": "stdout",
     "output_type": "stream",
     "text": [
      "BOT: My name is Robo, I will answer your questions about chatbots. If you want to exit, type Bye\n"
     ]
    },
    {
     "name": "stdin",
     "output_type": "stream",
     "text": [
      " who is cheif minister of guj\n"
     ]
    },
    {
     "name": "stdout",
     "output_type": "stream",
     "text": [
      "USER: who is cheif minister of guj\n"
     ]
    },
    {
     "name": "stderr",
     "output_type": "stream",
     "text": [
      "c:\\users\\srini\\appdata\\local\\programs\\python\\python39\\lib\\site-packages\\sklearn\\feature_extraction\\text.py:404: UserWarning: Your stop_words may be inconsistent with your preprocessing. Tokenizing the stop words generated tokens ['ha', 'le', 'u', 'wa'] not in stop_words.\n",
      "  warnings.warn(\n"
     ]
    },
    {
     "name": "stdout",
     "output_type": "stream",
     "text": [
      "[[0.04793288 0.06847988 0.         0.08795648 1.        ]]\n",
      "3\n",
      "[0.04793288 0.06847988 0.         0.08795648 1.        ]\n",
      "[0.         0.04793288 0.06847988 0.08795648 1.        ]\n",
      "ROBO: He is the longest-serving prime minister from outside the Indian National Congress.\n"
     ]
    }
   ],
   "source": [
    "print('BOT: My name is Robo, I will answer your questions about chatbots. If you want to exit, type Bye')\n",
    "while(1):\n",
    "    user_response=input()\n",
    "    print('USER: {}'.format(user_response))\n",
    "    if greeting(user_response)!=None:\n",
    "        print('ROBO: {}'.format(greeting(user_response)))\n",
    "    # elif user_response in end_words:\n",
    "    #     print('ROBO: {}'.format(\"Thank you!\"))\n",
    "    else:\n",
    "        print(\"ROBO: {}\".format(response(user_response)))"
   ]
  },
  {
   "cell_type": "markdown",
   "id": "7e9abd4e-d047-44d5-b4da-c54a07ea69d1",
   "metadata": {},
   "source": []
  }
 ],
 "metadata": {
  "kernelspec": {
   "display_name": "Python 3 (ipykernel)",
   "language": "python",
   "name": "python3"
  },
  "language_info": {
   "codemirror_mode": {
    "name": "ipython",
    "version": 3
   },
   "file_extension": ".py",
   "mimetype": "text/x-python",
   "name": "python",
   "nbconvert_exporter": "python",
   "pygments_lexer": "ipython3",
   "version": "3.9.0"
  }
 },
 "nbformat": 4,
 "nbformat_minor": 5
}
